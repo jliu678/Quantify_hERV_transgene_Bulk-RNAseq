{
 "cells": [
  {
   "cell_type": "code",
   "execution_count": null,
   "metadata": {},
   "outputs": [],
   "source": [
    "import os\n",
    "import sys\n",
    "\n",
    "def changeFileName(dirContainingFile2Rename,extOfFile2Rename,oldString,newString): \n",
    "    for f in os.scandir(dirContainingFile2Rename):\n",
    "        if f.is_dir():\n",
    "            print('folder found in', f.path ,'!')\n",
    "        if f.is_file():\n",
    "            print(os.path.splitext(f.name)[1].lower())\n",
    "            if os.path.splitext(f.name)[1].lower() in extOfFile2Rename:\n",
    "                print(\"oldString is\" ,oldString,\"newString is\" ,newString,'\\nf.name is',f.name)\n",
    "                old_name = f.name\n",
    "                new_name = old_name.replace(oldString,newString)\n",
    "                print(\"rename into == \",new_name,' ==')\n",
    "                os.rename(f.path, os.path.join(dirContainingFile2Rename,new_name))\n",
    "            else:\n",
    "                print('non-'+ext,'files found in', f.path ,'!')\n",
    "                \n",
    "                \n",
    "if (len(sys.argv)-1)!=4:\n",
    "    print('four arg expected:\\n',\n",
    "          '1st is dirContainingFile2Rename\\n',\n",
    "          '2nd is the extension of files to be renamed\\n',\n",
    "          '3rd is the old string need to be replaced in file name\\n',\n",
    "          '4th is the string above old string will be replaced into\\n')\n",
    "else:\n",
    "    changeFileName(sys.argv[1],sys.argv[2],sys.argv[3],sys.argv[4])\n",
    "\n"
   ]
  }
 ],
 "metadata": {
  "kernelspec": {
   "display_name": "Python (forJpt)",
   "language": "python",
   "name": "forjpt"
  },
  "language_info": {
   "codemirror_mode": {
    "name": "ipython",
    "version": 3
   },
   "file_extension": ".py",
   "mimetype": "text/x-python",
   "name": "python",
   "nbconvert_exporter": "python",
   "pygments_lexer": "ipython3",
   "version": "3.10.4"
  }
 },
 "nbformat": 4,
 "nbformat_minor": 2
}
